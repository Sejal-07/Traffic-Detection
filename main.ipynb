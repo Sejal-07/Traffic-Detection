{
 "cells": [
  {
   "cell_type": "code",
   "execution_count": 1,
   "id": "5934f3ee-490a-4eb5-91d8-65448d0aa04f",
   "metadata": {},
   "outputs": [],
   "source": [
    "from detector import VehicleDetector\n",
    "from utils import display_image\n",
    "from config import Config\n",
    "import os"
   ]
  },
  {
   "cell_type": "code",
   "execution_count": 3,
   "id": "b9c9dbaf-8124-411a-875b-f63351b63d92",
   "metadata": {},
   "outputs": [],
   "source": [
    "import cv2  "
   ]
  },
  {
   "cell_type": "code",
   "execution_count": 11,
   "id": "7669eac0-50c8-4faf-8137-a40b4ba8c5b2",
   "metadata": {
    "scrolled": true
   },
   "outputs": [
    {
     "name": "stdout",
     "output_type": "stream",
     "text": [
      "1. Process single image\n",
      "2. Process image directory\n",
      "3. Process video\n"
     ]
    },
    {
     "name": "stdin",
     "output_type": "stream",
     "text": [
      "Select option (1-3):  3\n",
      "Video path:  data/test_videos/video tra.mp4\n",
      "Output path:  output/output_videos\n"
     ]
    },
    {
     "name": "stdout",
     "output_type": "stream",
     "text": [
      "Resolved output path: output/output_videos\\processed_video.mp4\n",
      "Processed 10 frames...\n",
      "Processed 20 frames...\n",
      "Processed 30 frames...\n",
      "Processed 40 frames...\n",
      "Processed 50 frames...\n",
      "Processed 60 frames...\n",
      "Processed 70 frames...\n",
      "Processed 80 frames...\n",
      "Processed 90 frames...\n",
      "Processed 100 frames...\n",
      "Processed 110 frames...\n",
      "Processed 120 frames...\n",
      "Processed 130 frames...\n",
      "Processed 140 frames...\n",
      "Processed 150 frames...\n",
      "Processed 160 frames...\n",
      "Processed 170 frames...\n",
      "Processed 180 frames...\n",
      "Processed 190 frames...\n",
      "Processed 200 frames...\n",
      "Processed 210 frames...\n",
      "Processed 220 frames...\n",
      "Processed 230 frames...\n",
      "Processed 240 frames...\n",
      "Processed 250 frames...\n",
      "Processed 260 frames...\n",
      "Processed 270 frames...\n",
      "Processed 280 frames...\n",
      "Processed 290 frames...\n",
      "Processed 300 frames...\n",
      "Processed 310 frames...\n",
      "Processed 320 frames...\n",
      "Processed 330 frames...\n",
      "\n",
      "Video processing complete. Total counts:\n",
      "{'car': 2634, 'motorcycle': 0, 'bus': 0, 'truck': 10}\n"
     ]
    }
   ],
   "source": [
    "detector = VehicleDetector()\n",
    "\n",
    "print(\"1. Process single image\")\n",
    "print(\"2. Process image directory\")\n",
    "print(\"3. Process video\")\n",
    "choice = input(\"Select option (1-3): \")\n",
    "\n",
    "if choice == \"1\":\n",
    "    image_path = input(f\"Image path: \") \n",
    "    image_path = image_path or os.path.join(Config.INPUT_DIR, \"traffic1.jpg\")\n",
    "    output_path = os.path.join(Config.OUTPUT_DIR, f\"processed_{os.path.basename(image_path)}\")\n",
    "    annotated_image, counts = detector.detect_vehicles(image_path)\n",
    "    cv2.imwrite(output_path, annotated_image)\n",
    "    print(\"Vehicle counts:\", counts)\n",
    "    display_image(output_path, \"Processed Image\")\n",
    "    \n",
    "elif choice == \"2\":\n",
    "    input_dir = input(f\"Directory path : \")\n",
    "    input_dir = input_dir or Config.INPUT_DIR\n",
    "    all_counts = detector.process_images(input_dir)\n",
    "    print(\"\\nAll counts:\")\n",
    "    for img, counts in all_counts.items():\n",
    "        print(f\"{img}: {counts}\")\n",
    "        \n",
    "elif choice == \"3\":\n",
    "    video_path = input(\"Video path: \") or os.path.join(Config.VIDEO_INPUT_DIR, \"sample.mp4\")\n",
    "    output_video = input(\"Output path: \") or os.path.join(Config.VIDEO_OUTPUT_DIR, \"processed_video.mp4\")\n",
    "    if os.path.isdir(output_video):\n",
    "        output_video = os.path.join(output_video, \"processed_video.mp4\")\n",
    "        \n",
    "\n",
    "    print(\"Resolved output path:\", output_video)\n",
    "\n",
    "    total_counts = detector.process_video(video_path, output_video)\n",
    "    print(\"\\nVideo processing complete. Total counts:\")\n",
    "    print(total_counts)\n",
    "    \n",
    "else:\n",
    "    print(\"Invalid choice\")"
   ]
  },
  {
   "cell_type": "code",
   "execution_count": null,
   "id": "fd45d575-a50c-4007-9969-24d64679a325",
   "metadata": {},
   "outputs": [],
   "source": []
  }
 ],
 "metadata": {
  "kernelspec": {
   "display_name": "Python 3 (myenv)",
   "language": "python",
   "name": "myenv"
  },
  "language_info": {
   "codemirror_mode": {
    "name": "ipython",
    "version": 3
   },
   "file_extension": ".py",
   "mimetype": "text/x-python",
   "name": "python",
   "nbconvert_exporter": "python",
   "pygments_lexer": "ipython3",
   "version": "3.12.7"
  }
 },
 "nbformat": 4,
 "nbformat_minor": 5
}
